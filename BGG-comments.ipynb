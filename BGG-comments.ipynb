{
 "cells": [
  {
   "cell_type": "markdown",
   "metadata": {},
   "source": [
    "# BGG comments analysis"
   ]
  },
  {
   "cell_type": "code",
   "execution_count": 1,
   "metadata": {
    "collapsed": true
   },
   "outputs": [],
   "source": [
    "import comments"
   ]
  },
  {
   "cell_type": "markdown",
   "metadata": {},
   "source": [
    "## Analyse comments function\n",
    "\n",
    "This is the main function for returning the frequency of occurence of a particular term."
   ]
  },
  {
   "cell_type": "code",
   "execution_count": 2,
   "metadata": {
    "collapsed": false,
    "scrolled": true
   },
   "outputs": [
    {
     "data": {
      "text/html": [
       "<div>\n",
       "<style>\n",
       "    .dataframe thead tr:only-child th {\n",
       "        text-align: right;\n",
       "    }\n",
       "\n",
       "    .dataframe thead th {\n",
       "        text-align: left;\n",
       "    }\n",
       "\n",
       "    .dataframe tbody tr th {\n",
       "        vertical-align: top;\n",
       "    }\n",
       "</style>\n",
       "<table border=\"1\" class=\"dataframe\">\n",
       "  <thead>\n",
       "    <tr style=\"text-align: right;\">\n",
       "      <th></th>\n",
       "      <th>title</th>\n",
       "      <th>matches</th>\n",
       "      <th>total</th>\n",
       "      <th>term %</th>\n",
       "    </tr>\n",
       "    <tr>\n",
       "      <th>id</th>\n",
       "      <th></th>\n",
       "      <th></th>\n",
       "      <th></th>\n",
       "      <th></th>\n",
       "    </tr>\n",
       "  </thead>\n",
       "  <tbody>\n",
       "    <tr>\n",
       "      <th>35285</th>\n",
       "      <td>German Railways</td>\n",
       "      <td>9</td>\n",
       "      <td>242</td>\n",
       "      <td>3.719008</td>\n",
       "    </tr>\n",
       "    <tr>\n",
       "      <th>198953</th>\n",
       "      <td>Pax Renaissance</td>\n",
       "      <td>5</td>\n",
       "      <td>168</td>\n",
       "      <td>2.976190</td>\n",
       "    </tr>\n",
       "    <tr>\n",
       "      <th>165401</th>\n",
       "      <td>Wir sind das Volk!</td>\n",
       "      <td>6</td>\n",
       "      <td>239</td>\n",
       "      <td>2.510460</td>\n",
       "    </tr>\n",
       "    <tr>\n",
       "      <th>204</th>\n",
       "      <td>Stephenson's Rocket</td>\n",
       "      <td>14</td>\n",
       "      <td>651</td>\n",
       "      <td>2.150538</td>\n",
       "    </tr>\n",
       "    <tr>\n",
       "      <th>132018</th>\n",
       "      <td>Churchill</td>\n",
       "      <td>7</td>\n",
       "      <td>336</td>\n",
       "      <td>2.083333</td>\n",
       "    </tr>\n",
       "    <tr>\n",
       "      <th>75212</th>\n",
       "      <td>Grand Cru</td>\n",
       "      <td>4</td>\n",
       "      <td>207</td>\n",
       "      <td>1.932367</td>\n",
       "    </tr>\n",
       "    <tr>\n",
       "      <th>31730</th>\n",
       "      <td>Chicago Express</td>\n",
       "      <td>26</td>\n",
       "      <td>1671</td>\n",
       "      <td>1.555955</td>\n",
       "    </tr>\n",
       "    <tr>\n",
       "      <th>9215</th>\n",
       "      <td>Revolution: The Dutch Revolt 1568-1648</td>\n",
       "      <td>4</td>\n",
       "      <td>274</td>\n",
       "      <td>1.459854</td>\n",
       "    </tr>\n",
       "    <tr>\n",
       "      <th>29937</th>\n",
       "      <td>König von Siam</td>\n",
       "      <td>9</td>\n",
       "      <td>623</td>\n",
       "      <td>1.444623</td>\n",
       "    </tr>\n",
       "    <tr>\n",
       "      <th>75358</th>\n",
       "      <td>Paris Connection</td>\n",
       "      <td>7</td>\n",
       "      <td>489</td>\n",
       "      <td>1.431493</td>\n",
       "    </tr>\n",
       "  </tbody>\n",
       "</table>\n",
       "</div>"
      ],
      "text/plain": [
       "                                         title  matches  total    term %\n",
       "id                                                                      \n",
       "35285                          German Railways        9    242  3.719008\n",
       "198953                         Pax Renaissance        5    168  2.976190\n",
       "165401                      Wir sind das Volk!        6    239  2.510460\n",
       "204                        Stephenson's Rocket       14    651  2.150538\n",
       "132018                               Churchill        7    336  2.083333\n",
       "75212                                Grand Cru        4    207  1.932367\n",
       "31730                          Chicago Express       26   1671  1.555955\n",
       "9215    Revolution: The Dutch Revolt 1568-1648        4    274  1.459854\n",
       "29937                           König von Siam        9    623  1.444623\n",
       "75358                         Paris Connection        7    489  1.431493"
      ]
     },
     "execution_count": 2,
     "metadata": {},
     "output_type": "execute_result"
    }
   ],
   "source": [
    "comments.analyse_comments('opaque').head(10)"
   ]
  },
  {
   "cell_type": "markdown",
   "metadata": {},
   "source": [
    "## Plots\n",
    "These are functions for plotting the frequency of a term or terms over time (publication year)."
   ]
  },
  {
   "cell_type": "code",
   "execution_count": 3,
   "metadata": {
    "collapsed": true
   },
   "outputs": [],
   "source": [
    "%matplotlib inline"
   ]
  },
  {
   "cell_type": "code",
   "execution_count": 4,
   "metadata": {
    "collapsed": false
   },
   "outputs": [
    {
     "data": {
      "image/png": "[encoded data removed]",
      "text/plain": [
       "<matplotlib.figure.Figure at 0x253a47a8e10>"
      ]
     },
     "metadata": {},
     "output_type": "display_data"
    }
   ],
   "source": [
    "comments.plot_series('thematic');"
   ]
  },
  {
   "cell_type": "code",
   "execution_count": 5,
   "metadata": {
    "collapsed": false,
    "scrolled": false
   },
   "outputs": [
    {
     "data": {
      "image/png": "[encoded data removed]",
      "text/plain": [
       "<matplotlib.figure.Figure at 0x253bbbcc390>"
      ]
     },
     "metadata": {},
     "output_type": "display_data"
    }
   ],
   "source": [
    "comments.comparison_plot(['auction','worker placement'],minyear=1993);"
   ]
  },
  {
   "cell_type": "markdown",
   "metadata": {},
   "source": [
    "## Designers\n",
    "This function takes a name and a designer ID and returns the games most frequently mentioning the designer but not designed by them."
   ]
  },
  {
   "cell_type": "code",
   "execution_count": 6,
   "metadata": {
    "collapsed": false
   },
   "outputs": [
    {
     "data": {
      "text/html": [
       "<div>\n",
       "<style>\n",
       "    .dataframe thead tr:only-child th {\n",
       "        text-align: right;\n",
       "    }\n",
       "\n",
       "    .dataframe thead th {\n",
       "        text-align: left;\n",
       "    }\n",
       "\n",
       "    .dataframe tbody tr th {\n",
       "        vertical-align: top;\n",
       "    }\n",
       "</style>\n",
       "<table border=\"1\" class=\"dataframe\">\n",
       "  <thead>\n",
       "    <tr style=\"text-align: right;\">\n",
       "      <th></th>\n",
       "      <th>title</th>\n",
       "      <th>term %</th>\n",
       "    </tr>\n",
       "    <tr>\n",
       "      <th>id</th>\n",
       "      <th></th>\n",
       "      <th></th>\n",
       "    </tr>\n",
       "  </thead>\n",
       "  <tbody>\n",
       "    <tr>\n",
       "      <th>107190</th>\n",
       "      <td>Flash Duel: Second Edition</td>\n",
       "      <td>9.743590</td>\n",
       "    </tr>\n",
       "    <tr>\n",
       "      <th>118418</th>\n",
       "      <td>Divinare</td>\n",
       "      <td>3.383459</td>\n",
       "    </tr>\n",
       "    <tr>\n",
       "      <th>3800</th>\n",
       "      <td>Himalaya</td>\n",
       "      <td>3.162055</td>\n",
       "    </tr>\n",
       "    <tr>\n",
       "      <th>78954</th>\n",
       "      <td>Mousquetaires du Roy</td>\n",
       "      <td>2.547771</td>\n",
       "    </tr>\n",
       "    <tr>\n",
       "      <th>35435</th>\n",
       "      <td>Nefertiti</td>\n",
       "      <td>2.512563</td>\n",
       "    </tr>\n",
       "    <tr>\n",
       "      <th>21380</th>\n",
       "      <td>Conquest of the Fallen Lands</td>\n",
       "      <td>2.150538</td>\n",
       "    </tr>\n",
       "    <tr>\n",
       "      <th>42910</th>\n",
       "      <td>Peloponnes</td>\n",
       "      <td>2.145215</td>\n",
       "    </tr>\n",
       "    <tr>\n",
       "      <th>145588</th>\n",
       "      <td>Citrus</td>\n",
       "      <td>2.068966</td>\n",
       "    </tr>\n",
       "    <tr>\n",
       "      <th>154443</th>\n",
       "      <td>Madame Ching</td>\n",
       "      <td>1.796407</td>\n",
       "    </tr>\n",
       "    <tr>\n",
       "      <th>181796</th>\n",
       "      <td>The Prodigals Club</td>\n",
       "      <td>1.714286</td>\n",
       "    </tr>\n",
       "    <tr>\n",
       "      <th>128554</th>\n",
       "      <td>Völuspá</td>\n",
       "      <td>1.659751</td>\n",
       "    </tr>\n",
       "    <tr>\n",
       "      <th>19363</th>\n",
       "      <td>Havoc: The Hundred Years War</td>\n",
       "      <td>1.562500</td>\n",
       "    </tr>\n",
       "    <tr>\n",
       "      <th>38863</th>\n",
       "      <td>Hab &amp; Gut</td>\n",
       "      <td>1.336898</td>\n",
       "    </tr>\n",
       "    <tr>\n",
       "      <th>1261</th>\n",
       "      <td>Medina</td>\n",
       "      <td>1.275917</td>\n",
       "    </tr>\n",
       "    <tr>\n",
       "      <th>38194</th>\n",
       "      <td>Cheaty Mages!</td>\n",
       "      <td>1.223242</td>\n",
       "    </tr>\n",
       "    <tr>\n",
       "      <th>34373</th>\n",
       "      <td>Tiki Topple</td>\n",
       "      <td>1.215805</td>\n",
       "    </tr>\n",
       "    <tr>\n",
       "      <th>91873</th>\n",
       "      <td>Strasbourg</td>\n",
       "      <td>1.055409</td>\n",
       "    </tr>\n",
       "    <tr>\n",
       "      <th>140934</th>\n",
       "      <td>Arboretum</td>\n",
       "      <td>1.036269</td>\n",
       "    </tr>\n",
       "    <tr>\n",
       "      <th>56692</th>\n",
       "      <td>Parade</td>\n",
       "      <td>1.033295</td>\n",
       "    </tr>\n",
       "    <tr>\n",
       "      <th>3267</th>\n",
       "      <td>Pizarro &amp; Co.</td>\n",
       "      <td>0.973236</td>\n",
       "    </tr>\n",
       "    <tr>\n",
       "      <th>158600</th>\n",
       "      <td>Hanamikoji</td>\n",
       "      <td>0.958466</td>\n",
       "    </tr>\n",
       "    <tr>\n",
       "      <th>117959</th>\n",
       "      <td>Las Vegas</td>\n",
       "      <td>0.936524</td>\n",
       "    </tr>\n",
       "    <tr>\n",
       "      <th>15062</th>\n",
       "      <td>Shadows over Camelot</td>\n",
       "      <td>0.934996</td>\n",
       "    </tr>\n",
       "    <tr>\n",
       "      <th>19100</th>\n",
       "      <td>Hacienda</td>\n",
       "      <td>0.908174</td>\n",
       "    </tr>\n",
       "    <tr>\n",
       "      <th>15290</th>\n",
       "      <td>R-Eco</td>\n",
       "      <td>0.896057</td>\n",
       "    </tr>\n",
       "  </tbody>\n",
       "</table>\n",
       "</div>"
      ],
      "text/plain": [
       "                               title    term %\n",
       "id                                            \n",
       "107190    Flash Duel: Second Edition  9.743590\n",
       "118418                      Divinare  3.383459\n",
       "3800                        Himalaya  3.162055\n",
       "78954           Mousquetaires du Roy  2.547771\n",
       "35435                      Nefertiti  2.512563\n",
       "21380   Conquest of the Fallen Lands  2.150538\n",
       "42910                     Peloponnes  2.145215\n",
       "145588                        Citrus  2.068966\n",
       "154443                  Madame Ching  1.796407\n",
       "181796            The Prodigals Club  1.714286\n",
       "128554                       Völuspá  1.659751\n",
       "19363   Havoc: The Hundred Years War  1.562500\n",
       "38863                      Hab & Gut  1.336898\n",
       "1261                          Medina  1.275917\n",
       "38194                  Cheaty Mages!  1.223242\n",
       "34373                    Tiki Topple  1.215805\n",
       "91873                     Strasbourg  1.055409\n",
       "140934                     Arboretum  1.036269\n",
       "56692                         Parade  1.033295\n",
       "3267                   Pizarro & Co.  0.973236\n",
       "158600                    Hanamikoji  0.958466\n",
       "117959                     Las Vegas  0.936524\n",
       "15062           Shadows over Camelot  0.934996\n",
       "19100                       Hacienda  0.908174\n",
       "15290                          R-Eco  0.896057"
      ]
     },
     "execution_count": 6,
     "metadata": {},
     "output_type": "execute_result"
    }
   ],
   "source": [
    "comments.like_designer('knizia',2).head(25)"
   ]
  }
 ],
 "metadata": {
  "anaconda-cloud": {},
  "kernelspec": {
   "display_name": "Python 2",
   "language": "python",
   "name": "python2"
  },
  "language_info": {
   "codemirror_mode": {
    "name": "ipython",
    "version": 2
   },
   "file_extension": ".py",
   "mimetype": "text/x-python",
   "name": "python",
   "nbconvert_exporter": "python",
   "pygments_lexer": "ipython2",
   "version": "2.7.13"
  }
 },
 "nbformat": 4,
 "nbformat_minor": 2
}
